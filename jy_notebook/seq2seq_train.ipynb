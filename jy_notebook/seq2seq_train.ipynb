{
 "cells": [
  {
   "cell_type": "code",
   "execution_count": 0,
   "metadata": {
    "colab": {},
    "colab_type": "code",
    "id": "SfyPtPaT8cxo"
   },
   "outputs": [],
   "source": [
    "%load_ext autoreload\n",
    "%autoreload 2"
   ]
  },
  {
   "cell_type": "code",
   "execution_count": 4,
   "metadata": {
    "colab": {
     "base_uri": "https://localhost:8080/",
     "height": 127
    },
    "colab_type": "code",
    "executionInfo": {
     "elapsed": 106305,
     "status": "ok",
     "timestamp": 1589808438966,
     "user": {
      "displayName": "Crise Zhaopp",
      "photoUrl": "",
      "userId": "18306759907168652538"
     },
     "user_tz": -480
    },
    "id": "kG42-WWS9bCf",
    "outputId": "44959d5d-c54f-47ba-ed7a-1c29f9dfbbbf"
   },
   "outputs": [
    {
     "name": "stdout",
     "output_type": "stream",
     "text": [
      "Go to this URL in a browser: https://accounts.google.com/o/oauth2/auth?client_id=947318989803-6bn6qk8qdgf4n4g3pfee6491hc0brc4i.apps.googleusercontent.com&redirect_uri=urn%3aietf%3awg%3aoauth%3a2.0%3aoob&response_type=code&scope=email%20https%3a%2f%2fwww.googleapis.com%2fauth%2fdocs.test%20https%3a%2f%2fwww.googleapis.com%2fauth%2fdrive%20https%3a%2f%2fwww.googleapis.com%2fauth%2fdrive.photos.readonly%20https%3a%2f%2fwww.googleapis.com%2fauth%2fpeopleapi.readonly\n",
      "\n",
      "Enter your authorization code:\n",
      "··········\n",
      "Mounted at /content/gdrive\n"
     ]
    }
   ],
   "source": [
    "from google.colab import drive\n",
    "drive.mount(\"/content/gdrive\")"
   ]
  },
  {
   "cell_type": "code",
   "execution_count": 0,
   "metadata": {
    "colab": {},
    "colab_type": "code",
    "id": "YLHjMa77_GYW"
   },
   "outputs": [],
   "source": [
    "import os\n",
    "os.chdir(\"/content/gdrive/My Drive/Colab Notebooks/Hashing\")"
   ]
  },
  {
   "cell_type": "code",
   "execution_count": 0,
   "metadata": {
    "colab": {},
    "colab_type": "code",
    "id": "tkpqZQ2G889X"
   },
   "outputs": [],
   "source": [
    "import warnings \n",
    "warnings.filterwarnings(\"ignore\")"
   ]
  },
  {
   "cell_type": "code",
   "execution_count": 0,
   "metadata": {
    "colab": {},
    "colab_type": "code",
    "id": "cn1zeqQ19Mz5"
   },
   "outputs": [],
   "source": [
    "import os, sys\n",
    "sys.path.append(\"/content/gdrive/My Drive/Colab Notebooks/text-generator\")"
   ]
  },
  {
   "cell_type": "code",
   "execution_count": 0,
   "metadata": {
    "colab": {},
    "colab_type": "code",
    "id": "e824WlzrAXP-"
   },
   "outputs": [],
   "source": [
    "from utils.data_loader import load_dataset"
   ]
  },
  {
   "cell_type": "code",
   "execution_count": 11,
   "metadata": {
    "colab": {
     "base_uri": "https://localhost:8080/",
     "height": 35
    },
    "colab_type": "code",
    "executionInfo": {
     "elapsed": 1739,
     "status": "ok",
     "timestamp": 1589809212024,
     "user": {
      "displayName": "Crise Zhaopp",
      "photoUrl": "",
      "userId": "18306759907168652538"
     },
     "user_tz": -480
    },
    "id": "cXFwlHYpAfNv",
    "outputId": "7b45d960-956f-4ea6-ec6e-e3c6af44daf6"
   },
   "outputs": [
    {
     "name": "stdout",
     "output_type": "stream",
     "text": [
      "root path: /content/gdrive/My Drive/Colab Notebooks\n"
     ]
    }
   ],
   "source": [
    "from utils.data_loader import load_test_dataset"
   ]
  },
  {
   "cell_type": "code",
   "execution_count": 34,
   "metadata": {
    "colab": {
     "base_uri": "https://localhost:8080/",
     "height": 35
    },
    "colab_type": "code",
    "executionInfo": {
     "elapsed": 1086,
     "status": "ok",
     "timestamp": 1589811239611,
     "user": {
      "displayName": "Crise Zhaopp",
      "photoUrl": "",
      "userId": "18306759907168652538"
     },
     "user_tz": -480
    },
    "id": "3DTPLH8UIgn2",
    "outputId": "6c9ba80f-5ab3-44bf-8e45-58ce6dccd5d9"
   },
   "outputs": [
    {
     "data": {
      "text/plain": [
       "'/content/gdrive/My Drive/Colab Notebooks/Hashing/gen_data/embedding_matrix'"
      ]
     },
     "execution_count": 34,
     "metadata": {
      "tags": []
     },
     "output_type": "execute_result"
    }
   ],
   "source": [
    "from utils.config import embedding_matrix_path\n",
    "embedding_matrix_path"
   ]
  },
  {
   "cell_type": "code",
   "execution_count": 42,
   "metadata": {
    "colab": {
     "base_uri": "https://localhost:8080/",
     "height": 251
    },
    "colab_type": "code",
    "executionInfo": {
     "elapsed": 1419,
     "status": "ok",
     "timestamp": 1589811684767,
     "user": {
      "displayName": "Crise Zhaopp",
      "photoUrl": "",
      "userId": "18306759907168652538"
     },
     "user_tz": -480
    },
    "id": "VvSRWxPkIsdf",
    "outputId": "d4a85101-1a5e-4d4d-b2cc-4eb7bc328500"
   },
   "outputs": [
    {
     "data": {
      "text/plain": [
       "array([[ 5.78204274e-01,  6.03120551e-02,  3.60607475e-01, ...,\n",
       "        -3.83604765e-01, -2.35126719e-01, -3.39127541e-01],\n",
       "       [ 2.48232469e-01, -1.09330297e-01, -1.07853085e-01, ...,\n",
       "        -4.05686855e-01, -3.84583443e-01,  8.72177184e-01],\n",
       "       [-2.61794060e-01,  1.58479378e-01, -3.25242400e-01, ...,\n",
       "        -1.04319692e+00, -3.70189011e-01, -6.24906011e-02],\n",
       "       ...,\n",
       "       [ 3.13954473e-01,  6.27483010e-01,  8.70058371e-04, ...,\n",
       "        -6.59883201e-01,  1.04633875e-01,  5.38641512e-02],\n",
       "       [-3.03027540e-01, -6.11446559e-01, -1.08515084e+00, ...,\n",
       "         1.52157664e-01,  3.57411057e-01, -8.81655991e-01],\n",
       "       [ 3.11857313e-01, -5.35719246e-02, -3.20000172e-01, ...,\n",
       "        -1.04822442e-01,  1.92798018e-01, -4.42412287e-01]], dtype=float32)"
      ]
     },
     "execution_count": 42,
     "metadata": {
      "tags": []
     },
     "output_type": "execute_result"
    }
   ],
   "source": [
    "from utils.wv_loader import load_embedding_matrix\n",
    "load_embedding_matrix()"
   ]
  },
  {
   "cell_type": "code",
   "execution_count": 0,
   "metadata": {
    "colab": {},
    "colab_type": "code",
    "id": "n2j5WvCC9U2p"
   },
   "outputs": [],
   "source": [
    "import pandas as pd\n",
    "import numpy as np\n",
    "import matplotlib.pyplot as plt\n",
    "import matplotlib.ticker as ticker\n",
    "from utils.data_loader import load_dataset, preprocess_sentence, load_test_dataset\n",
    "from utils.wv_loader import load_embedding_matrix, load_vocab\n",
    "from utils.config import *\n",
    "from gensim.models.word2vec import LineSentence, Word2Vec\n",
    "import tensorflow as tf\n",
    "# from utils.plot_utils import plot_attention\n",
    "from tqdm import tqdm\n",
    "import time\n",
    "from seq2seq.batcher import train_batch_generator"
   ]
  },
  {
   "cell_type": "code",
   "execution_count": 0,
   "metadata": {
    "colab": {},
    "colab_type": "code",
    "id": "Llt7zlV6ERKS"
   },
   "outputs": [],
   "source": [
    "vocab_path = \"./gen_data/vocab.txt\"\n",
    "vocab, reverse_vocab=load_vocab(vocab_path)"
   ]
  },
  {
   "cell_type": "code",
   "execution_count": 0,
   "metadata": {
    "colab": {},
    "colab_type": "code",
    "id": "V0TXNv5wNw9u"
   },
   "outputs": [],
   "source": [
    "train_X, train_Y, test_X = load_dataset()"
   ]
  },
  {
   "cell_type": "code",
   "execution_count": 21,
   "metadata": {
    "colab": {
     "base_uri": "https://localhost:8080/",
     "height": 143
    },
    "colab_type": "code",
    "executionInfo": {
     "elapsed": 3117,
     "status": "ok",
     "timestamp": 1589810594370,
     "user": {
      "displayName": "Crise Zhaopp",
      "photoUrl": "",
      "userId": "18306759907168652538"
     },
     "user_tz": -480
    },
    "id": "9Gpl8a75E0Cz",
    "outputId": "e38d30c7-f36e-4a5c-f4f2-794b6cd8f2a9"
   },
   "outputs": [
    {
     "name": "stderr",
     "output_type": "stream",
     "text": [
      "2020-05-18 14:03:11,689 : INFO : loading Word2Vec object from ./gen_data/word2vec.model\n",
      "2020-05-18 14:03:13,649 : INFO : loading wv recursively from ./gen_data/word2vec.model.wv.* with mmap=None\n",
      "2020-05-18 14:03:13,650 : INFO : setting ignored attribute vectors_norm to None\n",
      "2020-05-18 14:03:13,651 : INFO : loading vocabulary recursively from ./gen_data/word2vec.model.vocabulary.* with mmap=None\n",
      "2020-05-18 14:03:13,656 : INFO : loading trainables recursively from ./gen_data/word2vec.model.trainables.* with mmap=None\n",
      "2020-05-18 14:03:13,658 : INFO : setting ignored attribute cum_table to None\n",
      "2020-05-18 14:03:13,659 : INFO : loaded ./gen_data/word2vec.model\n"
     ]
    }
   ],
   "source": [
    "from utils.wv_loader import get_embedding_matrix\n",
    "wv_model_path = \"./gen_data/word2vec.model\"\n",
    "embedding_matrix = get_embedding_matrix(wv_model_path)"
   ]
  },
  {
   "cell_type": "code",
   "execution_count": 0,
   "metadata": {
    "colab": {},
    "colab_type": "code",
    "id": "34MGu07oKLIO"
   },
   "outputs": [],
   "source": [
    "np.save(\"./gen_data/embedding_matrix.npy\", embedding_matrix)"
   ]
  },
  {
   "cell_type": "code",
   "execution_count": 0,
   "metadata": {
    "colab": {},
    "colab_type": "code",
    "id": "oi8tZzgQGftC"
   },
   "outputs": [],
   "source": [
    "units = 1024"
   ]
  },
  {
   "cell_type": "code",
   "execution_count": 0,
   "metadata": {
    "colab": {},
    "colab_type": "code",
    "id": "0st_BuJg_gfs"
   },
   "outputs": [],
   "source": [
    "params = {}\n",
    "params[\"vocab_size\"] = len(vocab)\n",
    "params[\"embed_size\"] = 300\n",
    "params[\"enc_units\"] = units\n",
    "params[\"attn_units\"] = units\n",
    "params[\"dec_units\"] = units\n",
    "params[\"batch_size\"] = 64\n",
    "params[\"epochs\"] = 5\n",
    "params[\"max_enc_len\"] = 200\n",
    "params[\"max_dec_len\"] = 41"
   ]
  },
  {
   "cell_type": "code",
   "execution_count": 0,
   "metadata": {
    "colab": {},
    "colab_type": "code",
    "id": "2qbiA7yfOUID"
   },
   "outputs": [],
   "source": [
    "steps_per_epoch = len(train_X) // params[\"batch_size\"]"
   ]
  },
  {
   "cell_type": "code",
   "execution_count": 0,
   "metadata": {
    "colab": {},
    "colab_type": "code",
    "id": "wrmM6AucObu3"
   },
   "outputs": [],
   "source": [
    "dataset = tf.data.Dataset.from_tensor_slices((train_X, train_Y)).shuffle(params[\"batch_size\"])\n",
    "dataset = dataset.batch(params[\"batch_size\"], drop_remainder=True)"
   ]
  },
  {
   "cell_type": "code",
   "execution_count": 0,
   "metadata": {
    "colab": {},
    "colab_type": "code",
    "id": "MKyfBcBARn_G"
   },
   "outputs": [],
   "source": [
    "from seq2seq.layers import Encoder, BahdanauAttention, Decoder"
   ]
  },
  {
   "cell_type": "code",
   "execution_count": 0,
   "metadata": {
    "colab": {},
    "colab_type": "code",
    "id": "NHY5_itfRvFv"
   },
   "outputs": [],
   "source": [
    "encoder = Encoder(params[\"vocab_size\"], params[\"embed_size\"], embedding_matrix, params[\"enc_units\"], params[\"batch_size\"])"
   ]
  },
  {
   "cell_type": "code",
   "execution_count": 0,
   "metadata": {
    "colab": {},
    "colab_type": "code",
    "id": "CTVyaFjOR-gh"
   },
   "outputs": [],
   "source": [
    "enc_hidden = encoder.initialize_hidden_state()"
   ]
  },
  {
   "cell_type": "code",
   "execution_count": 0,
   "metadata": {
    "colab": {},
    "colab_type": "code",
    "id": "qYHANqMbS-J0"
   },
   "outputs": [],
   "source": [
    "example_input_batch = tf.ones(shape=(params[\"batch_size\"], params[\"max_enc_len\"]), dtype=tf.int32)"
   ]
  },
  {
   "cell_type": "code",
   "execution_count": 82,
   "metadata": {
    "colab": {
     "base_uri": "https://localhost:8080/",
     "height": 53
    },
    "colab_type": "code",
    "executionInfo": {
     "elapsed": 3893,
     "status": "ok",
     "timestamp": 1589814053022,
     "user": {
      "displayName": "Crise Zhaopp",
      "photoUrl": "",
      "userId": "18306759907168652538"
     },
     "user_tz": -480
    },
    "id": "KbkIZTOGSPwa",
    "outputId": "2c62c54a-0d5d-4116-efe3-fef11f00178d"
   },
   "outputs": [
    {
     "name": "stdout",
     "output_type": "stream",
     "text": [
      "(64, 200, 300)\n"
     ]
    },
    {
     "data": {
      "text/plain": [
       "TensorShape([64, 1024])"
      ]
     },
     "execution_count": 82,
     "metadata": {
      "tags": []
     },
     "output_type": "execute_result"
    }
   ],
   "source": [
    "sample_output, sample_hidden = encoder(example_input_batch, enc_hidden)\n",
    "sample_output.shape\n",
    "sample_hidden.shape"
   ]
  },
  {
   "cell_type": "code",
   "execution_count": 0,
   "metadata": {
    "colab": {},
    "colab_type": "code",
    "id": "Jhg2iXydTXhf"
   },
   "outputs": [],
   "source": [
    "decoder = Decoder(params[\"vocab_size\"], params[\"embed_size\"], embedding_matrix, params[\"enc_units\"], params[\"batch_size\"])"
   ]
  },
  {
   "cell_type": "code",
   "execution_count": 0,
   "metadata": {
    "colab": {},
    "colab_type": "code",
    "id": "GLLvz66KTk-R"
   },
   "outputs": [],
   "source": [
    "sample_decoder_output, _, _ = decoder(tf.random.uniform((64, 1)), sample_hidden, sample_output)"
   ]
  },
  {
   "cell_type": "code",
   "execution_count": 86,
   "metadata": {
    "colab": {
     "base_uri": "https://localhost:8080/",
     "height": 35
    },
    "colab_type": "code",
    "executionInfo": {
     "elapsed": 1109,
     "status": "ok",
     "timestamp": 1589814265880,
     "user": {
      "displayName": "Crise Zhaopp",
      "photoUrl": "",
      "userId": "18306759907168652538"
     },
     "user_tz": -480
    },
    "id": "uzGBIMR8UHJA",
    "outputId": "b038704a-ab50-409a-f7f7-7fc30e55f03e"
   },
   "outputs": [
    {
     "data": {
      "text/plain": [
       "TensorShape([64, 32909])"
      ]
     },
     "execution_count": 86,
     "metadata": {
      "tags": []
     },
     "output_type": "execute_result"
    }
   ],
   "source": [
    "sample_decoder_output.shape"
   ]
  },
  {
   "cell_type": "code",
   "execution_count": 0,
   "metadata": {
    "colab": {},
    "colab_type": "code",
    "id": "4GnsyEL-EKfC"
   },
   "outputs": [],
   "source": [
    "# from seq2seq.models import Seq2Seq"
   ]
  },
  {
   "cell_type": "code",
   "execution_count": 0,
   "metadata": {
    "colab": {},
    "colab_type": "code",
    "id": "0ifdO30hHJkB"
   },
   "outputs": [],
   "source": [
    "# model = Seq2Seq(params)"
   ]
  },
  {
   "cell_type": "code",
   "execution_count": 0,
   "metadata": {
    "colab": {},
    "colab_type": "code",
    "id": "PPp7x3g8HObi"
   },
   "outputs": [],
   "source": [
    "checkpoint_dir = \"./gen_data/checkpoints/training_checkpoints_mask_loss_dim300_seq\"\n",
    "checkpoint_prefix = os.path.join(checkpoint_dir, \"ckpt\")"
   ]
  },
  {
   "cell_type": "code",
   "execution_count": 0,
   "metadata": {
    "colab": {},
    "colab_type": "code",
    "id": "Lo_WUODdNZag"
   },
   "outputs": [],
   "source": [
    "ckpt = tf.train.Checkpoint(Seq2Seq=model)\n",
    "ckpt_manager = tf.train.CheckpointManager(ckpt, checkpoint_dir, max_to_keep=5)"
   ]
  },
  {
   "cell_type": "code",
   "execution_count": 0,
   "metadata": {
    "colab": {},
    "colab_type": "code",
    "id": "ijSGcEbqNdft"
   },
   "outputs": [],
   "source": [
    "## 训练"
   ]
  },
  {
   "cell_type": "code",
   "execution_count": 0,
   "metadata": {
    "colab": {},
    "colab_type": "code",
    "id": "G-dadaUINiGV"
   },
   "outputs": [],
   "source": [
    "optimizer = tf.keras.optimizers.Adam(name='Adam',learning_rate=0.001)\n",
    "loss_object = tf.keras.losses.SparseCategoricalCrossentropy(from_logits=True, reduction='none')\n",
    "\n",
    "\n",
    "pad_index=vocab['<PAD>']\n",
    "nuk_index=vocab['<UNK>']\n",
    "\n",
    "def loss_function(real, pred):\n",
    "    pad_mask = tf.math.equal(real, pad_index)\n",
    "    nuk_mask = tf.math.equal(real, nuk_index)\n",
    "    mask = tf.math.logical_not(tf.math.logical_or(pad_mask,nuk_mask))\n",
    "    \n",
    "    loss_ = loss_object(real, pred)\n",
    "\n",
    "    mask = tf.cast(mask, dtype=loss_.dtype)\n",
    "    loss_ *= mask\n",
    "\n",
    "    return tf.reduce_mean(loss_)"
   ]
  },
  {
   "cell_type": "code",
   "execution_count": 0,
   "metadata": {
    "colab": {},
    "colab_type": "code",
    "id": "GhMWeiS-Nj2U"
   },
   "outputs": [],
   "source": [
    "@tf.function\n",
    "def train_step(inp, targ, enc_hidden):\n",
    "    loss = 0\n",
    "    \n",
    "    with tf.GradientTape() as tape:\n",
    "        # 1. 构建encoder\n",
    "        enc_output, enc_hidden = encoder(inp, enc_hidden)\n",
    "        # 2. 复制\n",
    "        dec_hidden = enc_hidden\n",
    "        # 3. <START> * BATCH_SIZE \n",
    "        dec_input = tf.expand_dims([vocab['<START>']] * params[\"batch_size\"], 1)\n",
    "        \n",
    "        # Teacher forcing - feeding the target as the next input\n",
    "        for t in range(1, targ.shape[1]):\n",
    "            # decoder(x, hidden, enc_output)\n",
    "            predictions, dec_hidden, _ = decoder(dec_input, dec_hidden, enc_output)\n",
    "            \n",
    "            loss += loss_function(targ[:, t], predictions)\n",
    "\n",
    "            # using teacher forcing\n",
    "            dec_input = tf.expand_dims(targ[:, t], 1)\n",
    "\n",
    "        batch_loss = (loss / int(targ.shape[1]))\n",
    "\n",
    "        variables = encoder.trainable_variables + decoder.trainable_variables\n",
    "\n",
    "        gradients = tape.gradient(loss, variables)\n",
    "\n",
    "        optimizer.apply_gradients(zip(gradients, variables))\n",
    "\n",
    "        return batch_loss"
   ]
  },
  {
   "cell_type": "code",
   "execution_count": 0,
   "metadata": {
    "colab": {
     "base_uri": "https://localhost:8080/",
     "height": 287
    },
    "colab_type": "code",
    "id": "XCH-_LiJNmkm",
    "outputId": "cf0fc98d-8f2d-4de3-9adb-fafbe8338fce"
   },
   "outputs": [
    {
     "name": "stdout",
     "output_type": "stream",
     "text": [
      "(64, 260, 300)\n",
      "(64, 260, 300)\n",
      "Epoch 1 Batch 0 Loss 5.7895\n",
      "Epoch 1 Batch 1 Loss 5.0485\n",
      "Epoch 1 Batch 2 Loss 4.6711\n",
      "Epoch 1 Batch 3 Loss 4.4872\n",
      "Epoch 1 Batch 4 Loss 2.9991\n",
      "Epoch 1 Batch 5 Loss 2.8944\n",
      "Epoch 1 Batch 6 Loss 2.2248\n",
      "Epoch 1 Batch 7 Loss 2.3178\n",
      "Epoch 1 Batch 8 Loss 2.5467\n",
      "Epoch 1 Batch 9 Loss 3.2641\n",
      "Epoch 1 Batch 10 Loss 3.4364\n",
      "Epoch 1 Batch 11 Loss 2.9485\n",
      "Epoch 1 Batch 12 Loss 2.7538\n"
     ]
    }
   ],
   "source": [
    "epochs = params[\"epochs\"]\n",
    "# 如果检查点存在，则恢复最新的检查点。\n",
    "if ckpt_manager.latest_checkpoint:\n",
    "    ckpt.restore(ckpt_manager.latest_checkpoint)\n",
    "    print ('Latest checkpoint restored!!')\n",
    "    \n",
    "for epoch in range(epochs):\n",
    "    start = time.time()\n",
    "    total_loss = 0\n",
    "    enc_hidden = encoder.initialize_hidden_state()\n",
    "\n",
    "    for (batch, (inp, targ)) in enumerate(dataset.take(steps_per_epoch)):\n",
    "        batch_loss = train_step(inp, targ, enc_hidden)\n",
    "        total_loss += batch_loss\n",
    "\n",
    "        if batch % 1 == 0:\n",
    "            print('Epoch {} Batch {} Loss {:.4f}'.format(epoch + 1,\n",
    "                                                         batch,\n",
    "                                                         batch_loss.numpy()))\n",
    "    # saving (checkpoint) the model every 2 epochs\n",
    "    if (epoch + 1) % 2 == 0:\n",
    "        ckpt_save_path = ckpt_manager.save()\n",
    "        print ('Saving checkpoint for epoch {} at {}'.format(epoch+1,\n",
    "                                                             ckpt_save_path))\n",
    "\n",
    "    print('Epoch {} Loss {:.4f}'.format(epoch + 1,\n",
    "                                      total_loss / steps_per_epoch))\n",
    "    print('Time taken for 1 epoch {} sec\\n'.format(time.time() - start))"
   ]
  },
  {
   "cell_type": "code",
   "execution_count": 0,
   "metadata": {
    "colab": {},
    "colab_type": "code",
    "id": "F9xMHWnyNq2l"
   },
   "outputs": [],
   "source": []
  }
 ],
 "metadata": {
  "colab": {
   "authorship_tag": "ABX9TyO+sRUqsxV5LtyecoIPo3r7",
   "name": "seq2seq_train.ipynb",
   "provenance": []
  },
  "kernelspec": {
   "display_name": "Python 3",
   "language": "python",
   "name": "python3"
  },
  "language_info": {
   "codemirror_mode": {
    "name": "ipython",
    "version": 3
   },
   "file_extension": ".py",
   "mimetype": "text/x-python",
   "name": "python",
   "nbconvert_exporter": "python",
   "pygments_lexer": "ipython3",
   "version": "3.7.0"
  }
 },
 "nbformat": 4,
 "nbformat_minor": 1
}
