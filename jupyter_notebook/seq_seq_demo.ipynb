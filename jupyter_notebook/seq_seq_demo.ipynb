{
 "cells": [
  {
   "cell_type": "code",
   "execution_count": 0,
   "metadata": {
    "colab": {},
    "colab_type": "code",
    "id": "NbZ0Yj0tP8vs"
   },
   "outputs": [],
   "source": [
    "import tensorflow as tf"
   ]
  },
  {
   "cell_type": "code",
   "execution_count": 2,
   "metadata": {
    "colab": {
     "base_uri": "https://localhost:8080/",
     "height": 35
    },
    "colab_type": "code",
    "executionInfo": {
     "elapsed": 1605,
     "status": "ok",
     "timestamp": 1589293159696,
     "user": {
      "displayName": "Crise Zhaopp",
      "photoUrl": "",
      "userId": "18306759907168652538"
     },
     "user_tz": -480
    },
    "id": "c5RjLXPwQDyO",
    "outputId": "8920afe4-590a-4e29-e8f9-5c0cf1926078"
   },
   "outputs": [
    {
     "data": {
      "text/plain": [
       "'2.2.0'"
      ]
     },
     "execution_count": 2,
     "metadata": {
      "tags": []
     },
     "output_type": "execute_result"
    }
   ],
   "source": [
    "tf.__version__"
   ]
  },
  {
   "cell_type": "code",
   "execution_count": 3,
   "metadata": {
    "colab": {
     "base_uri": "https://localhost:8080/",
     "height": 127
    },
    "colab_type": "code",
    "executionInfo": {
     "elapsed": 23885,
     "status": "ok",
     "timestamp": 1589293199577,
     "user": {
      "displayName": "Crise Zhaopp",
      "photoUrl": "",
      "userId": "18306759907168652538"
     },
     "user_tz": -480
    },
    "id": "6B0-NFQgQQ3V",
    "outputId": "f154397c-f797-4abe-cefd-86231443bc04"
   },
   "outputs": [
    {
     "name": "stdout",
     "output_type": "stream",
     "text": [
      "Go to this URL in a browser: https://accounts.google.com/o/oauth2/auth?client_id=947318989803-6bn6qk8qdgf4n4g3pfee6491hc0brc4i.apps.googleusercontent.com&redirect_uri=urn%3aietf%3awg%3aoauth%3a2.0%3aoob&response_type=code&scope=email%20https%3a%2f%2fwww.googleapis.com%2fauth%2fdocs.test%20https%3a%2f%2fwww.googleapis.com%2fauth%2fdrive%20https%3a%2f%2fwww.googleapis.com%2fauth%2fdrive.photos.readonly%20https%3a%2f%2fwww.googleapis.com%2fauth%2fpeopleapi.readonly\n",
      "\n",
      "Enter your authorization code:\n",
      "··········\n",
      "Mounted at /content/gdrive\n"
     ]
    }
   ],
   "source": [
    "from google.colab import drive\n",
    "drive.mount(\"/content/gdrive\")"
   ]
  },
  {
   "cell_type": "code",
   "execution_count": 5,
   "metadata": {
    "colab": {
     "base_uri": "https://localhost:8080/",
     "height": 35
    },
    "colab_type": "code",
    "executionInfo": {
     "elapsed": 4255,
     "status": "ok",
     "timestamp": 1589293228727,
     "user": {
      "displayName": "Crise Zhaopp",
      "photoUrl": "",
      "userId": "18306759907168652538"
     },
     "user_tz": -480
    },
    "id": "kIW1EDonQVM6",
    "outputId": "bbfc5795-4dfd-4c66-8b05-c9e24e2212f3"
   },
   "outputs": [
    {
     "name": "stdout",
     "output_type": "stream",
     "text": [
      "/content/gdrive/My Drive/Colab Notebooks/Hashing\n"
     ]
    }
   ],
   "source": [
    "import os\n",
    "os.chdir(\"/content/gdrive/My Drive/Colab Notebooks/Hashing\")\n",
    "!pwd"
   ]
  },
  {
   "cell_type": "code",
   "execution_count": 0,
   "metadata": {
    "colab": {},
    "colab_type": "code",
    "id": "GwQ56bdlQudT"
   },
   "outputs": [],
   "source": [
    "train_x_path = \"./gen_data/train_X\"\n",
    "train_y_path = \"./gen_data/train_Y\"\n",
    "test_x_path = \"./gen_data/test_X\""
   ]
  },
  {
   "cell_type": "code",
   "execution_count": 0,
   "metadata": {
    "colab": {},
    "colab_type": "code",
    "id": "Ik2U27cNQeaL"
   },
   "outputs": [],
   "source": [
    "import numpy as np\n",
    "def load_dataset():\n",
    "  train_X = np.loadtxt(train_x_path)\n",
    "  train_Y = np.loadtxt(train_y_path)\n",
    "  test_X = np.loadtxt(test_x_path)\n",
    "  train_X.dtype = 'float64'\n",
    "  train_Y.dtype = 'float64'\n",
    "  test_X.dtype = 'float64'\n",
    "  return train_X, train_Y, test_X"
   ]
  },
  {
   "cell_type": "code",
   "execution_count": 0,
   "metadata": {
    "colab": {},
    "colab_type": "code",
    "id": "ZXHhmhxYQ6aA"
   },
   "outputs": [],
   "source": [
    "train_X,train_Y,test_X = load_dataset()"
   ]
  },
  {
   "cell_type": "code",
   "execution_count": 0,
   "metadata": {
    "colab": {},
    "colab_type": "code",
    "id": "ujhIGMZUQ9OY"
   },
   "outputs": [],
   "source": [
    "from tensorflow.keras.models import Model, Sequential\n",
    "from tensorflow.keras.layers import GRU, Input, Dense, TimeDistributed, Activation, RepeatVector, Bidirectional\n",
    "from tensorflow.keras.layers import Embedding\n",
    "from tensorflow.keras.optimizers import Adam\n",
    "from tensorflow.keras.losses import sparse_categorical_crossentropy"
   ]
  },
  {
   "cell_type": "code",
   "execution_count": 11,
   "metadata": {
    "colab": {
     "base_uri": "https://localhost:8080/",
     "height": 307
    },
    "colab_type": "code",
    "executionInfo": {
     "elapsed": 4074,
     "status": "ok",
     "timestamp": 1589293740638,
     "user": {
      "displayName": "Crise Zhaopp",
      "photoUrl": "",
      "userId": "18306759907168652538"
     },
     "user_tz": -480
    },
    "id": "3lX3c5bdR1sZ",
    "outputId": "cb8a0788-1d3d-4eac-ada5-190d49c07923"
   },
   "outputs": [
    {
     "name": "stderr",
     "output_type": "stream",
     "text": [
      "/usr/local/lib/python3.6/dist-packages/smart_open/smart_open_lib.py:253: UserWarning: This function is deprecated, use smart_open.open instead. See the migration notes for details: https://github.com/RaRe-Technologies/smart_open/blob/master/README.rst#migrating-to-the-new-open-function\n",
      "  'See the migration notes for details: %s' % _MIGRATION_NOTES_URL\n"
     ]
    },
    {
     "data": {
      "text/plain": [
       "array([[ 5.78204274e-01,  6.03120551e-02,  3.60607475e-01, ...,\n",
       "        -3.83604765e-01, -2.35126719e-01, -3.39127541e-01],\n",
       "       [ 2.48232469e-01, -1.09330297e-01, -1.07853085e-01, ...,\n",
       "        -4.05686855e-01, -3.84583443e-01,  8.72177184e-01],\n",
       "       [-2.61794060e-01,  1.58479378e-01, -3.25242400e-01, ...,\n",
       "        -1.04319692e+00, -3.70189011e-01, -6.24906011e-02],\n",
       "       ...,\n",
       "       [ 3.13954473e-01,  6.27483010e-01,  8.70058371e-04, ...,\n",
       "        -6.59883201e-01,  1.04633875e-01,  5.38641512e-02],\n",
       "       [-3.03027540e-01, -6.11446559e-01, -1.08515084e+00, ...,\n",
       "         1.52157664e-01,  3.57411057e-01, -8.81655991e-01],\n",
       "       [ 3.11857313e-01, -5.35719246e-02, -3.20000172e-01, ...,\n",
       "        -1.04822442e-01,  1.92798018e-01, -4.42412287e-01]], dtype=float32)"
      ]
     },
     "execution_count": 11,
     "metadata": {
      "tags": []
     },
     "output_type": "execute_result"
    }
   ],
   "source": [
    "from gensim.models.word2vec import Word2Vec\n",
    "\n",
    "wv_model = Word2Vec.load(\"./gen_data/word2vec.model\")\n",
    "embedding_matrix = wv_model.wv.vectors\n",
    "embedding_matrix"
   ]
  },
  {
   "cell_type": "code",
   "execution_count": 12,
   "metadata": {
    "colab": {
     "base_uri": "https://localhost:8080/",
     "height": 35
    },
    "colab_type": "code",
    "executionInfo": {
     "elapsed": 1350,
     "status": "ok",
     "timestamp": 1589293764993,
     "user": {
      "displayName": "Crise Zhaopp",
      "photoUrl": "",
      "userId": "18306759907168652538"
     },
     "user_tz": -480
    },
    "id": "cLZTYGfUShj-",
    "outputId": "12a37639-69c2-47ca-e82c-d882e1d6b478"
   },
   "outputs": [
    {
     "data": {
      "text/plain": [
       "(32909, 300)"
      ]
     },
     "execution_count": 12,
     "metadata": {
      "tags": []
     },
     "output_type": "execute_result"
    }
   ],
   "source": [
    "embedding_matrix.shape"
   ]
  },
  {
   "cell_type": "code",
   "execution_count": 0,
   "metadata": {
    "colab": {},
    "colab_type": "code",
    "id": "nakNyNNZSnLq"
   },
   "outputs": [],
   "source": [
    "np.savetxt(\"./gen_data/embedding_matrix\", embedding_matrix, fmt='%0.8f')"
   ]
  },
  {
   "cell_type": "code",
   "execution_count": 0,
   "metadata": {
    "colab": {},
    "colab_type": "code",
    "id": "VzxSaG_fRJBX"
   },
   "outputs": [],
   "source": [
    "def seq2seq(input_length, output_sequence_length, embedding_matrix, vocab_size):\n",
    "  model = Sequential()\n",
    "  model.add(Embedding(input_dim=vocab_size, output_dim=300, weights=[embedding_matrix], trainable=False,\n",
    "                      input_length=input_length))\n",
    "  model.add(Bidirectional(GRU(300, return_sequences=False)))\n",
    "  model.add(Dense(300, activation=\"relu\"))\n",
    "  model.add(RepeatVector(output_sequence_length))\n",
    "  model.add(Bidirectional(GRU(300, return_sequences=True)))\n",
    "  model.add(TimeDistributed(Dense(vocab_size, activation='softmax')))\n",
    "  model.compile(loss=sparse_categorical_crossentropy,\n",
    "                optimizer=Adam(1e-3))\n",
    "  model.summary()\n",
    "  return model"
   ]
  },
  {
   "cell_type": "code",
   "execution_count": 15,
   "metadata": {
    "colab": {
     "base_uri": "https://localhost:8080/",
     "height": 35
    },
    "colab_type": "code",
    "executionInfo": {
     "elapsed": 1635,
     "status": "ok",
     "timestamp": 1589294618136,
     "user": {
      "displayName": "Crise Zhaopp",
      "photoUrl": "",
      "userId": "18306759907168652538"
     },
     "user_tz": -480
    },
    "id": "gvCooiPOS5Mj",
    "outputId": "ca07a327-c058-4cbb-e3d1-5bc118398a61"
   },
   "outputs": [
    {
     "data": {
      "text/plain": [
       "(82871, 260)"
      ]
     },
     "execution_count": 15,
     "metadata": {
      "tags": []
     },
     "output_type": "execute_result"
    }
   ],
   "source": [
    "train_X.shape"
   ]
  },
  {
   "cell_type": "code",
   "execution_count": 0,
   "metadata": {
    "colab": {},
    "colab_type": "code",
    "id": "SY0fBALaWBTu"
   },
   "outputs": [],
   "source": [
    "def load_vocab(file_path):\n",
    "  vocab = {}\n",
    "  reverse_vocab = {}\n",
    "  for line in open(file_path, \"r\", encoding='utf-8').readlines():\n",
    "      word, index = line.strip().split(\"\\t\")\n",
    "      index = int(index)\n",
    "      vocab[word] = index\n",
    "      reverse_vocab[index] = word\n",
    "  return vocab, reverse_vocab"
   ]
  },
  {
   "cell_type": "code",
   "execution_count": 0,
   "metadata": {
    "colab": {},
    "colab_type": "code",
    "id": "CHlQSdwFWK1p"
   },
   "outputs": [],
   "source": [
    "vocab, reverse_vocab = load_vocab(\"./gen_data/vocab.txt\")"
   ]
  },
  {
   "cell_type": "code",
   "execution_count": 0,
   "metadata": {
    "colab": {},
    "colab_type": "code",
    "id": "yGrL8VtiV0q6"
   },
   "outputs": [],
   "source": [
    "# 输入的长度 x max_len\n",
    "input_length = train_X.shape[1]\n",
    "# 输出的长度 y max_len\n",
    "output_sequence_length = train_Y.shape[1]\n",
    "# 词表大小\n",
    "vocab_size=len(vocab)\n",
    "# 词向量矩阵\n",
    "embedding_matrix = wv_model.wv.vectors"
   ]
  },
  {
   "cell_type": "code",
   "execution_count": 19,
   "metadata": {
    "colab": {
     "base_uri": "https://localhost:8080/",
     "height": 377
    },
    "colab_type": "code",
    "executionInfo": {
     "elapsed": 9867,
     "status": "ok",
     "timestamp": 1589294777516,
     "user": {
      "displayName": "Crise Zhaopp",
      "photoUrl": "",
      "userId": "18306759907168652538"
     },
     "user_tz": -480
    },
    "id": "DSYzXPFjWWzx",
    "outputId": "60ccd4a8-14c6-4d5a-9457-44a83ea73f0d"
   },
   "outputs": [
    {
     "name": "stdout",
     "output_type": "stream",
     "text": [
      "Model: \"sequential\"\n",
      "_________________________________________________________________\n",
      "Layer (type)                 Output Shape              Param #   \n",
      "=================================================================\n",
      "embedding (Embedding)        (None, 260, 300)          9872700   \n",
      "_________________________________________________________________\n",
      "bidirectional (Bidirectional (None, 600)               1083600   \n",
      "_________________________________________________________________\n",
      "dense (Dense)                (None, 300)               180300    \n",
      "_________________________________________________________________\n",
      "repeat_vector (RepeatVector) (None, 33, 300)           0         \n",
      "_________________________________________________________________\n",
      "bidirectional_1 (Bidirection (None, 33, 600)           1083600   \n",
      "_________________________________________________________________\n",
      "time_distributed (TimeDistri (None, 33, 32909)         19778309  \n",
      "=================================================================\n",
      "Total params: 31,998,509\n",
      "Trainable params: 22,125,809\n",
      "Non-trainable params: 9,872,700\n",
      "_________________________________________________________________\n"
     ]
    }
   ],
   "source": [
    "model = seq2seq(input_length,output_sequence_length,embedding_matrix,vocab_size)"
   ]
  },
  {
   "cell_type": "code",
   "execution_count": 21,
   "metadata": {
    "colab": {
     "base_uri": "https://localhost:8080/",
     "height": 53
    },
    "colab_type": "code",
    "executionInfo": {
     "elapsed": 670276,
     "status": "ok",
     "timestamp": 1589295464247,
     "user": {
      "displayName": "Crise Zhaopp",
      "photoUrl": "",
      "userId": "18306759907168652538"
     },
     "user_tz": -480
    },
    "id": "lTqPW0EaWZuY",
    "outputId": "d45c33c2-51c6-4b00-a615-8c3fdfb57530"
   },
   "outputs": [
    {
     "name": "stdout",
     "output_type": "stream",
     "text": [
      "2072/2072 [==============================] - 657s 317ms/step - loss: 3.1931 - val_loss: 2.9219\n"
     ]
    },
    {
     "data": {
      "text/plain": [
       "<tensorflow.python.keras.callbacks.History at 0x7f7d30579470>"
      ]
     },
     "execution_count": 21,
     "metadata": {
      "tags": []
     },
     "output_type": "execute_result"
    }
   ],
   "source": [
    "model.fit(train_X, train_Y, batch_size=32, epochs=1, validation_split=0.2)"
   ]
  },
  {
   "cell_type": "code",
   "execution_count": 22,
   "metadata": {
    "colab": {
     "base_uri": "https://localhost:8080/",
     "height": 35
    },
    "colab_type": "code",
    "executionInfo": {
     "elapsed": 1307,
     "status": "ok",
     "timestamp": 1589295623514,
     "user": {
      "displayName": "Crise Zhaopp",
      "photoUrl": "",
      "userId": "18306759907168652538"
     },
     "user_tz": -480
    },
    "id": "oOhjqE_CZnw-",
    "outputId": "9b16958c-2d91-4d93-c77b-246cbbd7022f"
   },
   "outputs": [
    {
     "data": {
      "text/plain": [
       "(82871, 260)"
      ]
     },
     "execution_count": 22,
     "metadata": {
      "tags": []
     },
     "output_type": "execute_result"
    }
   ],
   "source": [
    "train_X.shape"
   ]
  },
  {
   "cell_type": "code",
   "execution_count": 0,
   "metadata": {
    "colab": {
     "base_uri": "https://localhost:8080/",
     "height": 53
    },
    "colab_type": "code",
    "id": "VWuZMznRWdqQ",
    "outputId": "ed371a73-e6b2-407e-a031-b1adfe8b9e70"
   },
   "outputs": [
    {
     "name": "stdout",
     "output_type": "stream",
     "text": [
      "Epoch 1/5\n",
      "1041/4144 [======>.......................] - ETA: 11:17 - loss: 2.9196"
     ]
    }
   ],
   "source": [
    "model.fit(train_X, train_Y, batch_size=16, epochs=5, validation_split=0.2)"
   ]
  },
  {
   "cell_type": "code",
   "execution_count": 0,
   "metadata": {
    "colab": {},
    "colab_type": "code",
    "id": "_Pglh0RgbCA6"
   },
   "outputs": [],
   "source": []
  }
 ],
 "metadata": {
  "accelerator": "GPU",
  "colab": {
   "authorship_tag": "ABX9TyM4Ujl0fb+m7siIPQEe1SwE",
   "name": "seq_seq_demo.ipynb",
   "provenance": []
  },
  "kernelspec": {
   "display_name": "Python 3",
   "language": "python",
   "name": "python3"
  },
  "language_info": {
   "codemirror_mode": {
    "name": "ipython",
    "version": 3
   },
   "file_extension": ".py",
   "mimetype": "text/x-python",
   "name": "python",
   "nbconvert_exporter": "python",
   "pygments_lexer": "ipython3",
   "version": "3.6.9"
  }
 },
 "nbformat": 4,
 "nbformat_minor": 1
}
