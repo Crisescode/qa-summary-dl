{
 "cells": [
  {
   "cell_type": "code",
   "execution_count": 3,
   "metadata": {
    "colab": {
     "base_uri": "https://localhost:8080/",
     "height": 323
    },
    "colab_type": "code",
    "executionInfo": {
     "elapsed": 5102,
     "status": "ok",
     "timestamp": 1589680936293,
     "user": {
      "displayName": "Crise Zhaopp",
      "photoUrl": "",
      "userId": "18306759907168652538"
     },
     "user_tz": -480
    },
    "id": "ShlIoSRXjTBz",
    "outputId": "f681b6e8-ca58-4039-f9c9-4fb72a646225"
   },
   "outputs": [
    {
     "name": "stdout",
     "output_type": "stream",
     "text": [
      "Sun May 17 02:02:15 2020       \n",
      "+-----------------------------------------------------------------------------+\n",
      "| NVIDIA-SMI 440.82       Driver Version: 418.67       CUDA Version: 10.1     |\n",
      "|-------------------------------+----------------------+----------------------+\n",
      "| GPU  Name        Persistence-M| Bus-Id        Disp.A | Volatile Uncorr. ECC |\n",
      "| Fan  Temp  Perf  Pwr:Usage/Cap|         Memory-Usage | GPU-Util  Compute M. |\n",
      "|===============================+======================+======================|\n",
      "|   0  Tesla T4            Off  | 00000000:00:04.0 Off |                    0 |\n",
      "| N/A   36C    P8     9W /  70W |      0MiB / 15079MiB |      0%      Default |\n",
      "+-------------------------------+----------------------+----------------------+\n",
      "                                                                               \n",
      "+-----------------------------------------------------------------------------+\n",
      "| Processes:                                                       GPU Memory |\n",
      "|  GPU       PID   Type   Process name                             Usage      |\n",
      "|=============================================================================|\n",
      "|  No running processes found                                                 |\n",
      "+-----------------------------------------------------------------------------+\n"
     ]
    }
   ],
   "source": [
    "!nvidia-smi"
   ]
  },
  {
   "cell_type": "code",
   "execution_count": 4,
   "metadata": {
    "colab": {
     "base_uri": "https://localhost:8080/",
     "height": 127
    },
    "colab_type": "code",
    "executionInfo": {
     "elapsed": 77416,
     "status": "ok",
     "timestamp": 1589681017216,
     "user": {
      "displayName": "Crise Zhaopp",
      "photoUrl": "",
      "userId": "18306759907168652538"
     },
     "user_tz": -480
    },
    "id": "vepuzlgwjaRy",
    "outputId": "6139aee1-cc0d-4f69-85e3-474dec45880d"
   },
   "outputs": [
    {
     "name": "stdout",
     "output_type": "stream",
     "text": [
      "Go to this URL in a browser: https://accounts.google.com/o/oauth2/auth?client_id=947318989803-6bn6qk8qdgf4n4g3pfee6491hc0brc4i.apps.googleusercontent.com&redirect_uri=urn%3aietf%3awg%3aoauth%3a2.0%3aoob&response_type=code&scope=email%20https%3a%2f%2fwww.googleapis.com%2fauth%2fdocs.test%20https%3a%2f%2fwww.googleapis.com%2fauth%2fdrive%20https%3a%2f%2fwww.googleapis.com%2fauth%2fdrive.photos.readonly%20https%3a%2f%2fwww.googleapis.com%2fauth%2fpeopleapi.readonly\n",
      "\n",
      "Enter your authorization code:\n",
      "··········\n",
      "Mounted at /content/gdrive\n"
     ]
    }
   ],
   "source": [
    "from google.colab import drive\n",
    "drive.mount(\"/content/gdrive\")"
   ]
  },
  {
   "cell_type": "code",
   "execution_count": 0,
   "metadata": {
    "colab": {},
    "colab_type": "code",
    "id": "4Px1kGQSlL5j"
   },
   "outputs": [],
   "source": [
    "import os\n",
    "os.chdir(\"/content/gdrive/My Drive/Colab Notebooks/Hashing\")"
   ]
  },
  {
   "cell_type": "code",
   "execution_count": 0,
   "metadata": {
    "colab": {},
    "colab_type": "code",
    "id": "dd0f61zOlXcZ"
   },
   "outputs": [],
   "source": [
    "import numpy as np\n",
    "def load_dataset(train_x_path, train_y_path, test_x_path):\n",
    "  train_X = np.loadtxt(train_x_path)\n",
    "  train_Y = np.loadtxt(train_y_path)\n",
    "  test_X = np.loadtxt(test_x_path)\n",
    "\n",
    "  train_X.dtype = \"float64\"\n",
    "  train_Y.dtype = \"float64\"\n",
    "  test_X.dtype = \"float64\"\n",
    "\n",
    "  return train_X, train_Y, test_X"
   ]
  },
  {
   "cell_type": "code",
   "execution_count": 0,
   "metadata": {
    "colab": {},
    "colab_type": "code",
    "id": "PPhroY7VmpFp"
   },
   "outputs": [],
   "source": [
    "train_x_path = \"./gen_data/train_X\"\n",
    "train_y_path = \"./gen_data/train_Y\"\n",
    "test_x_path = \"./gen_data/test_X\"\n",
    "train_X, train_Y, test_X = load_dataset(train_x_path, train_y_path, test_x_path)"
   ]
  },
  {
   "cell_type": "code",
   "execution_count": 0,
   "metadata": {
    "colab": {},
    "colab_type": "code",
    "id": "U3z7KHUpnCyh"
   },
   "outputs": [],
   "source": [
    "def load_vocab(vocab_path):\n",
    "  vocab = {}\n",
    "  reverse_vocab = {}\n",
    "  for line in open(vocab_path, \"r\", encoding=\"utf-8\").readlines():\n",
    "    word, index = line.strip().split(\"\\t\")\n",
    "    index = int(index)\n",
    "    vocab[word] = index\n",
    "    reverse_vocab[index] = word\n",
    "\n",
    "  return vocab, reverse_vocab "
   ]
  },
  {
   "cell_type": "code",
   "execution_count": 0,
   "metadata": {
    "colab": {},
    "colab_type": "code",
    "id": "S6huj9D9nxKl"
   },
   "outputs": [],
   "source": [
    "vocab_path = \"./gen_data/vocab.txt\"\n",
    "vocab, reverse_vocab=load_vocab(vocab_path)"
   ]
  },
  {
   "cell_type": "code",
   "execution_count": 0,
   "metadata": {
    "colab": {},
    "colab_type": "code",
    "id": "4Xa-U9O4n0SA"
   },
   "outputs": [],
   "source": [
    "embedding_matrix = np.loadtxt(\"./gen_data/embedding_matrix\")"
   ]
  },
  {
   "cell_type": "code",
   "execution_count": 11,
   "metadata": {
    "colab": {
     "base_uri": "https://localhost:8080/",
     "height": 35
    },
    "colab_type": "code",
    "executionInfo": {
     "elapsed": 7165,
     "status": "ok",
     "timestamp": 1589681084647,
     "user": {
      "displayName": "Crise Zhaopp",
      "photoUrl": "",
      "userId": "18306759907168652538"
     },
     "user_tz": -480
    },
    "id": "TdjGI5P0oVnR",
    "outputId": "5bd9ac01-2127-4258-f6fb-c51288b4fa2c"
   },
   "outputs": [
    {
     "data": {
      "text/plain": [
       "260"
      ]
     },
     "execution_count": 11,
     "metadata": {
      "tags": []
     },
     "output_type": "execute_result"
    }
   ],
   "source": [
    "input_length = train_X.shape[1]\n",
    "input_length"
   ]
  },
  {
   "cell_type": "code",
   "execution_count": 12,
   "metadata": {
    "colab": {
     "base_uri": "https://localhost:8080/",
     "height": 35
    },
    "colab_type": "code",
    "executionInfo": {
     "elapsed": 6601,
     "status": "ok",
     "timestamp": 1589681084648,
     "user": {
      "displayName": "Crise Zhaopp",
      "photoUrl": "",
      "userId": "18306759907168652538"
     },
     "user_tz": -480
    },
    "id": "JbGu2VAGoeKO",
    "outputId": "bfcf4739-cd42-4ba9-e12a-34e8ee135248"
   },
   "outputs": [
    {
     "data": {
      "text/plain": [
       "33"
      ]
     },
     "execution_count": 12,
     "metadata": {
      "tags": []
     },
     "output_type": "execute_result"
    }
   ],
   "source": [
    "output_sequence_length = train_Y.shape[1]\n",
    "output_sequence_length"
   ]
  },
  {
   "cell_type": "code",
   "execution_count": 0,
   "metadata": {
    "colab": {},
    "colab_type": "code",
    "id": "Ql6UQbkLopGs"
   },
   "outputs": [],
   "source": [
    "vocab_size = len(vocab)"
   ]
  },
  {
   "cell_type": "code",
   "execution_count": 14,
   "metadata": {
    "colab": {
     "base_uri": "https://localhost:8080/",
     "height": 35
    },
    "colab_type": "code",
    "executionInfo": {
     "elapsed": 5456,
     "status": "ok",
     "timestamp": 1589681084650,
     "user": {
      "displayName": "Crise Zhaopp",
      "photoUrl": "",
      "userId": "18306759907168652538"
     },
     "user_tz": -480
    },
    "id": "tBRXlWdTo0wE",
    "outputId": "018f3310-016f-4d55-a3d6-6b3b0c40e03a"
   },
   "outputs": [
    {
     "data": {
      "text/plain": [
       "32909"
      ]
     },
     "execution_count": 14,
     "metadata": {
      "tags": []
     },
     "output_type": "execute_result"
    }
   ],
   "source": [
    "vocab_size"
   ]
  },
  {
   "cell_type": "code",
   "execution_count": 0,
   "metadata": {
    "colab": {},
    "colab_type": "code",
    "id": "omi6QYDio9YU"
   },
   "outputs": [],
   "source": [
    "sample_num = 640\n",
    "train_X = train_X[:sample_num]\n",
    "train_Y = train_Y[:sample_num]"
   ]
  },
  {
   "cell_type": "code",
   "execution_count": 16,
   "metadata": {
    "colab": {
     "base_uri": "https://localhost:8080/",
     "height": 35
    },
    "colab_type": "code",
    "executionInfo": {
     "elapsed": 4189,
     "status": "ok",
     "timestamp": 1589681084652,
     "user": {
      "displayName": "Crise Zhaopp",
      "photoUrl": "",
      "userId": "18306759907168652538"
     },
     "user_tz": -480
    },
    "id": "pI0em13QpJPc",
    "outputId": "44ee22dd-5943-40e3-bba0-d63c021341b7"
   },
   "outputs": [
    {
     "data": {
      "text/plain": [
       "640"
      ]
     },
     "execution_count": 16,
     "metadata": {
      "tags": []
     },
     "output_type": "execute_result"
    }
   ],
   "source": [
    "BUFFER_SIZE = len(train_X)\n",
    "BUFFER_SIZE"
   ]
  },
  {
   "cell_type": "code",
   "execution_count": 17,
   "metadata": {
    "colab": {
     "base_uri": "https://localhost:8080/",
     "height": 35
    },
    "colab_type": "code",
    "executionInfo": {
     "elapsed": 3553,
     "status": "ok",
     "timestamp": 1589681084653,
     "user": {
      "displayName": "Crise Zhaopp",
      "photoUrl": "",
      "userId": "18306759907168652538"
     },
     "user_tz": -480
    },
    "id": "kNxmT03WpOGD",
    "outputId": "3aa6eca2-188a-4c0d-a405-46fbeb0de0fc"
   },
   "outputs": [
    {
     "name": "stdout",
     "output_type": "stream",
     "text": [
      "input length: 260, output length: 33\n"
     ]
    }
   ],
   "source": [
    "max_length_inp = train_X.shape[1]\n",
    "max_length_targ = train_Y.shape[1]\n",
    "print(\"input length: {0}, output length: {1}\".format(max_length_inp, max_length_targ))"
   ]
  },
  {
   "cell_type": "code",
   "execution_count": 0,
   "metadata": {
    "colab": {},
    "colab_type": "code",
    "id": "sC5-R6bppk1i"
   },
   "outputs": [],
   "source": [
    "BATCH_SIZE = 64\n",
    "step_per_epoch = len(train_X) // BATCH_SIZE"
   ]
  },
  {
   "cell_type": "code",
   "execution_count": 0,
   "metadata": {
    "colab": {},
    "colab_type": "code",
    "id": "t2W1VSQXpzic"
   },
   "outputs": [],
   "source": [
    "embedding_dim = 300\n",
    "units = 1024\n",
    "vocab_size = len(vocab)"
   ]
  },
  {
   "cell_type": "code",
   "execution_count": 0,
   "metadata": {
    "colab": {},
    "colab_type": "code",
    "id": "yhX0pcamqRF5"
   },
   "outputs": [],
   "source": [
    "import tensorflow as tf\n",
    "dataset = tf.data.Dataset.from_tensor_slices((train_X, train_Y)).shuffle(BUFFER_SIZE)"
   ]
  },
  {
   "cell_type": "code",
   "execution_count": 0,
   "metadata": {
    "colab": {},
    "colab_type": "code",
    "id": "zxbjGQEIqclX"
   },
   "outputs": [],
   "source": [
    "dataset = dataset.batch(BATCH_SIZE, drop_remainder=True)"
   ]
  },
  {
   "cell_type": "code",
   "execution_count": 22,
   "metadata": {
    "colab": {
     "base_uri": "https://localhost:8080/",
     "height": 35
    },
    "colab_type": "code",
    "executionInfo": {
     "elapsed": 9277,
     "status": "ok",
     "timestamp": 1589681093412,
     "user": {
      "displayName": "Crise Zhaopp",
      "photoUrl": "",
      "userId": "18306759907168652538"
     },
     "user_tz": -480
    },
    "id": "-cvigYQ7qod3",
    "outputId": "8d68f209-10b7-4f9a-c12a-fbb3df06e1f0"
   },
   "outputs": [
    {
     "data": {
      "text/plain": [
       "<BatchDataset shapes: ((64, 260), (64, 33)), types: (tf.float64, tf.float64)>"
      ]
     },
     "execution_count": 22,
     "metadata": {
      "tags": []
     },
     "output_type": "execute_result"
    }
   ],
   "source": [
    "dataset"
   ]
  },
  {
   "cell_type": "code",
   "execution_count": 23,
   "metadata": {
    "colab": {
     "base_uri": "https://localhost:8080/",
     "height": 35
    },
    "colab_type": "code",
    "executionInfo": {
     "elapsed": 9293,
     "status": "ok",
     "timestamp": 1589681094041,
     "user": {
      "displayName": "Crise Zhaopp",
      "photoUrl": "",
      "userId": "18306759907168652538"
     },
     "user_tz": -480
    },
    "id": "mA0fqvWBqsen",
    "outputId": "ee785ba4-2aa1-4c67-df78-5beb49cb692e"
   },
   "outputs": [
    {
     "data": {
      "text/plain": [
       "(640, 260)"
      ]
     },
     "execution_count": 23,
     "metadata": {
      "tags": []
     },
     "output_type": "execute_result"
    }
   ],
   "source": [
    "train_X.shape"
   ]
  },
  {
   "cell_type": "code",
   "execution_count": 0,
   "metadata": {
    "colab": {},
    "colab_type": "code",
    "id": "KHgtry3tqwLp"
   },
   "outputs": [],
   "source": [
    "## 构建Encoder"
   ]
  },
  {
   "cell_type": "code",
   "execution_count": 0,
   "metadata": {
    "colab": {},
    "colab_type": "code",
    "id": "ldiUJ8B9q4rX"
   },
   "outputs": [],
   "source": [
    "class Encoder(tf.keras.Model):\n",
    "  def __init__(self, vocab_size, embedding_dim, embedding_matrix, enc_units, batch_size):\n",
    "    super(Encoder, self).__init__()\n",
    "    self.batch_size = batch_size\n",
    "    self.enc_units = enc_units\n",
    "    self.embedding = tf.keras.layers.Embedding(vocab_size, embedding_dim, weights=[embedding_matrix], trainable=True)\n",
    "    self.gru = tf.keras.layers.GRU(self.enc_units, return_sequences=True, return_state=True, recurrent_initializer=\"glorot_uniform\")\n",
    "\n",
    "  def __call__(self, x, hidden):\n",
    "    x = self.embedding(x)\n",
    "    print(x.shape)\n",
    "    output, state = self.gru(x, initial_state=hidden)\n",
    "    return output, state\n",
    "\n",
    "  def initialize_hidden_state(self):\n",
    "    return tf.zeros((self.batch_size, self.enc_units))"
   ]
  },
  {
   "cell_type": "code",
   "execution_count": 0,
   "metadata": {
    "colab": {},
    "colab_type": "code",
    "id": "N1sJGE1_smbf"
   },
   "outputs": [],
   "source": [
    "encoder = Encoder(vocab_size, embedding_dim,embedding_matrix, units, BATCH_SIZE)"
   ]
  },
  {
   "cell_type": "code",
   "execution_count": 27,
   "metadata": {
    "colab": {
     "base_uri": "https://localhost:8080/",
     "height": 35
    },
    "colab_type": "code",
    "executionInfo": {
     "elapsed": 6758,
     "status": "ok",
     "timestamp": 1589681094049,
     "user": {
      "displayName": "Crise Zhaopp",
      "photoUrl": "",
      "userId": "18306759907168652538"
     },
     "user_tz": -480
    },
    "id": "0JkqcWo3sp4p",
    "outputId": "641cb8f9-c994-4667-ea36-c5f53052572e"
   },
   "outputs": [
    {
     "data": {
      "text/plain": [
       "<__main__.Encoder at 0x7f4a534cfd30>"
      ]
     },
     "execution_count": 27,
     "metadata": {
      "tags": []
     },
     "output_type": "execute_result"
    }
   ],
   "source": [
    "encoder"
   ]
  },
  {
   "cell_type": "code",
   "execution_count": 0,
   "metadata": {
    "colab": {},
    "colab_type": "code",
    "id": "xizPxukOswda"
   },
   "outputs": [],
   "source": [
    "example_input_batch = tf.ones(shape=(BATCH_SIZE, max_length_inp), dtype=tf.int32)"
   ]
  },
  {
   "cell_type": "code",
   "execution_count": 29,
   "metadata": {
    "colab": {
     "base_uri": "https://localhost:8080/",
     "height": 35
    },
    "colab_type": "code",
    "executionInfo": {
     "elapsed": 5512,
     "status": "ok",
     "timestamp": 1589681094051,
     "user": {
      "displayName": "Crise Zhaopp",
      "photoUrl": "",
      "userId": "18306759907168652538"
     },
     "user_tz": -480
    },
    "id": "9q0oIqxMs3k6",
    "outputId": "4384656d-bac7-4d4e-d9a5-5c62b1048c93"
   },
   "outputs": [
    {
     "data": {
      "text/plain": [
       "TensorShape([64, 260])"
      ]
     },
     "execution_count": 29,
     "metadata": {
      "tags": []
     },
     "output_type": "execute_result"
    }
   ],
   "source": [
    "example_input_batch.shape"
   ]
  },
  {
   "cell_type": "code",
   "execution_count": 0,
   "metadata": {
    "colab": {},
    "colab_type": "code",
    "id": "UUFAx5n9s-yY"
   },
   "outputs": [],
   "source": [
    "sample_hidden = encoder.initialize_hidden_state()"
   ]
  },
  {
   "cell_type": "code",
   "execution_count": 31,
   "metadata": {
    "colab": {
     "base_uri": "https://localhost:8080/",
     "height": 35
    },
    "colab_type": "code",
    "executionInfo": {
     "elapsed": 4189,
     "status": "ok",
     "timestamp": 1589681094052,
     "user": {
      "displayName": "Crise Zhaopp",
      "photoUrl": "",
      "userId": "18306759907168652538"
     },
     "user_tz": -480
    },
    "id": "W_wPbW4ztKKI",
    "outputId": "8ab0f3f5-9fa1-4949-e6a0-b9492721751a"
   },
   "outputs": [
    {
     "data": {
      "text/plain": [
       "TensorShape([64, 1024])"
      ]
     },
     "execution_count": 31,
     "metadata": {
      "tags": []
     },
     "output_type": "execute_result"
    }
   ],
   "source": [
    "sample_hidden.shape"
   ]
  },
  {
   "cell_type": "code",
   "execution_count": 32,
   "metadata": {
    "colab": {
     "base_uri": "https://localhost:8080/",
     "height": 35
    },
    "colab_type": "code",
    "executionInfo": {
     "elapsed": 8584,
     "status": "ok",
     "timestamp": 1589681099138,
     "user": {
      "displayName": "Crise Zhaopp",
      "photoUrl": "",
      "userId": "18306759907168652538"
     },
     "user_tz": -480
    },
    "id": "lOb58mxCtcCX",
    "outputId": "b6e46399-8608-4af1-b262-87371353f6c1"
   },
   "outputs": [
    {
     "name": "stdout",
     "output_type": "stream",
     "text": [
      "(64, 260, 300)\n"
     ]
    }
   ],
   "source": [
    "sample_output, sample_hidden = encoder(example_input_batch, sample_hidden)"
   ]
  },
  {
   "cell_type": "code",
   "execution_count": 33,
   "metadata": {
    "colab": {
     "base_uri": "https://localhost:8080/",
     "height": 35
    },
    "colab_type": "code",
    "executionInfo": {
     "elapsed": 7885,
     "status": "ok",
     "timestamp": 1589681099143,
     "user": {
      "displayName": "Crise Zhaopp",
      "photoUrl": "",
      "userId": "18306759907168652538"
     },
     "user_tz": -480
    },
    "id": "St7KU8tmyODB",
    "outputId": "69e69e30-a514-40eb-91af-e5e02b1d9c57"
   },
   "outputs": [
    {
     "data": {
      "text/plain": [
       "TensorShape([64, 260, 1024])"
      ]
     },
     "execution_count": 33,
     "metadata": {
      "tags": []
     },
     "output_type": "execute_result"
    }
   ],
   "source": [
    "sample_output.shape"
   ]
  },
  {
   "cell_type": "code",
   "execution_count": 34,
   "metadata": {
    "colab": {
     "base_uri": "https://localhost:8080/",
     "height": 35
    },
    "colab_type": "code",
    "executionInfo": {
     "elapsed": 7232,
     "status": "ok",
     "timestamp": 1589681099144,
     "user": {
      "displayName": "Crise Zhaopp",
      "photoUrl": "",
      "userId": "18306759907168652538"
     },
     "user_tz": -480
    },
    "id": "DZHKl_QGyjww",
    "outputId": "9f45ea34-ef3d-4a77-810f-35f1d013e33b"
   },
   "outputs": [
    {
     "data": {
      "text/plain": [
       "TensorShape([64, 1024])"
      ]
     },
     "execution_count": 34,
     "metadata": {
      "tags": []
     },
     "output_type": "execute_result"
    }
   ],
   "source": [
    "sample_hidden.shape"
   ]
  },
  {
   "cell_type": "code",
   "execution_count": 0,
   "metadata": {
    "colab": {},
    "colab_type": "code",
    "id": "sRP6xv5yytYo"
   },
   "outputs": [],
   "source": [
    "## 构建Attention"
   ]
  },
  {
   "cell_type": "code",
   "execution_count": 0,
   "metadata": {
    "colab": {},
    "colab_type": "code",
    "id": "NY3obob8MKPb"
   },
   "outputs": [],
   "source": [
    "class BahdanauAttention(tf.keras.layers.Layer):\n",
    "  def __init__(self, units):\n",
    "    super(BahdanauAttention, self).__init__()\n",
    "    self.W1 = tf.keras.layers.Dense(units)\n",
    "    self.W2 = tf.keras.layers.Dense(units)\n",
    "    self.V = tf.keras.layers.Dense(1)\n",
    "\n",
    "  def call(self, query, values):\n",
    "    hidden_with_time_axis = tf.expand_dims(query, 1)\n",
    "\n",
    "    score = self.V(tf.nn.tanh(self.W1(values) + self.W2(hidden_with_time_axis)))\n",
    "\n",
    "    attention_weights = tf.nn.softmax(score, axis=1)\n",
    "\n",
    "    context_vector = attention_weights * values\n",
    "    context_vector = tf.reduce_sum(context_vector, axis=1)\n",
    "\n",
    "    return context_vector, attention_weights"
   ]
  },
  {
   "cell_type": "code",
   "execution_count": 0,
   "metadata": {
    "colab": {},
    "colab_type": "code",
    "id": "4gEKo4CQP5aa"
   },
   "outputs": [],
   "source": [
    "## 测试Attention"
   ]
  },
  {
   "cell_type": "code",
   "execution_count": 38,
   "metadata": {
    "colab": {
     "base_uri": "https://localhost:8080/",
     "height": 35
    },
    "colab_type": "code",
    "executionInfo": {
     "elapsed": 4495,
     "status": "ok",
     "timestamp": 1589681099150,
     "user": {
      "displayName": "Crise Zhaopp",
      "photoUrl": "",
      "userId": "18306759907168652538"
     },
     "user_tz": -480
    },
    "id": "o1epg_j7P9U8",
    "outputId": "2a4bf99c-f547-4242-dc96-d16f4f59ca6b"
   },
   "outputs": [
    {
     "data": {
      "text/plain": [
       "<__main__.BahdanauAttention at 0x7f4a4eebe940>"
      ]
     },
     "execution_count": 38,
     "metadata": {
      "tags": []
     },
     "output_type": "execute_result"
    }
   ],
   "source": [
    "attention_layer = BahdanauAttention(10)\n",
    "attention_layer"
   ]
  },
  {
   "cell_type": "code",
   "execution_count": 0,
   "metadata": {
    "colab": {},
    "colab_type": "code",
    "id": "AxONgpucRa5P"
   },
   "outputs": [],
   "source": [
    "attention_result, attention_weights = attention_layer(sample_hidden, sample_output)"
   ]
  },
  {
   "cell_type": "code",
   "execution_count": 40,
   "metadata": {
    "colab": {
     "base_uri": "https://localhost:8080/",
     "height": 269
    },
    "colab_type": "code",
    "executionInfo": {
     "elapsed": 4938,
     "status": "ok",
     "timestamp": 1589681101097,
     "user": {
      "displayName": "Crise Zhaopp",
      "photoUrl": "",
      "userId": "18306759907168652538"
     },
     "user_tz": -480
    },
    "id": "bB8R9wfTRqfG",
    "outputId": "838a3cc4-06ee-4b0d-94c0-d74555856ca6"
   },
   "outputs": [
    {
     "data": {
      "text/plain": [
       "<tf.Tensor: shape=(64, 1024), dtype=float32, numpy=\n",
       "array([[-0.36441872,  0.08861268,  0.01415164, ..., -0.19742776,\n",
       "        -0.3552074 ,  0.36955377],\n",
       "       [-0.36441872,  0.08861268,  0.01415164, ..., -0.19742776,\n",
       "        -0.3552074 ,  0.36955377],\n",
       "       [-0.36441872,  0.08861268,  0.01415164, ..., -0.19742776,\n",
       "        -0.3552074 ,  0.36955377],\n",
       "       ...,\n",
       "       [-0.36441872,  0.08861268,  0.01415164, ..., -0.19742776,\n",
       "        -0.3552074 ,  0.36955377],\n",
       "       [-0.36441872,  0.08861268,  0.01415164, ..., -0.19742776,\n",
       "        -0.3552074 ,  0.36955377],\n",
       "       [-0.36441872,  0.08861268,  0.01415164, ..., -0.19742776,\n",
       "        -0.3552074 ,  0.36955377]], dtype=float32)>"
      ]
     },
     "execution_count": 40,
     "metadata": {
      "tags": []
     },
     "output_type": "execute_result"
    }
   ],
   "source": [
    "attention_result"
   ]
  },
  {
   "cell_type": "code",
   "execution_count": 41,
   "metadata": {
    "colab": {
     "base_uri": "https://localhost:8080/",
     "height": 35
    },
    "colab_type": "code",
    "executionInfo": {
     "elapsed": 3759,
     "status": "ok",
     "timestamp": 1589681101099,
     "user": {
      "displayName": "Crise Zhaopp",
      "photoUrl": "",
      "userId": "18306759907168652538"
     },
     "user_tz": -480
    },
    "id": "JP5n0SxSSESv",
    "outputId": "ce3e5d5c-47a2-4f4d-bb3c-e2676d00b3e8"
   },
   "outputs": [
    {
     "data": {
      "text/plain": [
       "TensorShape([64, 260, 1])"
      ]
     },
     "execution_count": 41,
     "metadata": {
      "tags": []
     },
     "output_type": "execute_result"
    }
   ],
   "source": [
    "attention_weights.shape"
   ]
  },
  {
   "cell_type": "code",
   "execution_count": 0,
   "metadata": {
    "colab": {},
    "colab_type": "code",
    "id": "6xoFhrJYSHCk"
   },
   "outputs": [],
   "source": [
    "## 构建Decoder"
   ]
  },
  {
   "cell_type": "code",
   "execution_count": 0,
   "metadata": {
    "colab": {},
    "colab_type": "code",
    "id": "Qm0uRtQN--o8"
   },
   "outputs": [],
   "source": [
    "# help(tf.keras.layers.GRU)"
   ]
  },
  {
   "cell_type": "code",
   "execution_count": 0,
   "metadata": {
    "colab": {},
    "colab_type": "code",
    "id": "0pg-QQEW51HH"
   },
   "outputs": [],
   "source": [
    "class Decoder(tf.keras.Model):\n",
    "  def __init__(self, vocab_size, embedding_dim, embedding_matrix, dec_units, batch_size):\n",
    "    super(Decoder, self).__init__()\n",
    "    self.batch_size = batch_size\n",
    "    self.dec_units = dec_units\n",
    "    self.embedding = tf.keras.layers.\n",
    "    (vocab_size, embedding_dim, weights=[embedding_matrix], trainable=True)\n",
    "    self.gru = tf.keras.layers.GRU(self.dec_units, return_sequences=True, return_state=True, recurrent_initializer=\"glorot_uniform\")\n",
    "\n",
    "    self.fc = tf.keras.layers.Dense(vocab_size)\n",
    "\n",
    "    # used for attention\n",
    "    self.attention = BahdanauAttention(self.dec_units)\n",
    "  \n",
    "  def call(self, x, hidden, enc_output):\n",
    "    context_vector, attention_weights = self.attention(hidden, enc_output)\n",
    "    x = self.embedding(x)\n",
    "    print(\"after embedding shape:\", x.shape)\n",
    "    print(\"context_vector shape:\", context_vector.shape)\n",
    "    print(\"attention_weights shape:\", attention_weights.shape)\n",
    "\n",
    "    x = tf.concat([tf.expand_dims(context_vector, 1), x], axis=-1)\n",
    "    print(\"expand context_vector shape:\", tf.expand_dims(context_vector, 1).shape)\n",
    "    print(\"after concat x's shape:\", x.shape)\n",
    "\n",
    "    output, state = self.gru(x)\n",
    "    print(\"output shape:\", output.shape)\n",
    "    print(\"state shape:\", state.shape)\n",
    "    \n",
    "    output = tf.reshape(output, (-1, output.shape[2]))\n",
    "    print(\"after reshape output's shape:\", output.shape)\n",
    "\n",
    "    x = self.fc(output)\n",
    "    print(\"x shape:\", x.shape)\n",
    "    \n",
    "\n",
    "    return x, state, attention_weights"
   ]
  },
  {
   "cell_type": "code",
   "execution_count": 0,
   "metadata": {
    "colab": {},
    "colab_type": "code",
    "id": "7qHk9TRo9lB9"
   },
   "outputs": [],
   "source": [
    "## 测试 Decoder"
   ]
  },
  {
   "cell_type": "code",
   "execution_count": 46,
   "metadata": {
    "colab": {
     "base_uri": "https://localhost:8080/",
     "height": 179
    },
    "colab_type": "code",
    "executionInfo": {
     "elapsed": 1878,
     "status": "ok",
     "timestamp": 1589681103407,
     "user": {
      "displayName": "Crise Zhaopp",
      "photoUrl": "",
      "userId": "18306759907168652538"
     },
     "user_tz": -480
    },
    "id": "wTSeLjZd9250",
    "outputId": "7b92fabe-9782-4d92-8e0b-70099f117bb0"
   },
   "outputs": [
    {
     "name": "stdout",
     "output_type": "stream",
     "text": [
      "after embedding shape: (64, 1, 300)\n",
      "context_vector shape: (64, 1024)\n",
      "attention_weights shape: (64, 260, 1)\n",
      "expand context_vector shape: (64, 1, 1024)\n",
      "after concat x's shape: (64, 1, 1324)\n",
      "output shape: (64, 1, 1024)\n",
      "state shape: (64, 1024)\n",
      "after reshape output's shape: (64, 1024)\n",
      "x shape: (64, 32909)\n"
     ]
    }
   ],
   "source": [
    "decoder = Decoder(vocab_size, embedding_dim, embedding_matrix, units, BATCH_SIZE)\n",
    "\n",
    "sample_decoder_output, _, _ = decoder(tf.random.uniform((64, 1)), sample_hidden, sample_output)"
   ]
  },
  {
   "cell_type": "code",
   "execution_count": 47,
   "metadata": {
    "colab": {
     "base_uri": "https://localhost:8080/",
     "height": 35
    },
    "colab_type": "code",
    "executionInfo": {
     "elapsed": 932,
     "status": "ok",
     "timestamp": 1589681103416,
     "user": {
      "displayName": "Crise Zhaopp",
      "photoUrl": "",
      "userId": "18306759907168652538"
     },
     "user_tz": -480
    },
    "id": "FTIsibuq-dM0",
    "outputId": "7988cf89-8631-47b2-e47f-d392c460cebb"
   },
   "outputs": [
    {
     "data": {
      "text/plain": [
       "TensorShape([64, 1])"
      ]
     },
     "execution_count": 47,
     "metadata": {
      "tags": []
     },
     "output_type": "execute_result"
    }
   ],
   "source": [
    "tf.random.uniform((64, 1)).shape"
   ]
  },
  {
   "cell_type": "code",
   "execution_count": 0,
   "metadata": {
    "colab": {},
    "colab_type": "code",
    "id": "y_xz9i80dwoj"
   },
   "outputs": [],
   "source": [
    "## 定义优化函数"
   ]
  },
  {
   "cell_type": "code",
   "execution_count": 0,
   "metadata": {
    "colab": {},
    "colab_type": "code",
    "id": "PZMZsFzMd0Cc"
   },
   "outputs": [],
   "source": [
    "optimizer = tf.keras.optimizers.Adam()\n",
    "loss_object = tf.keras.losses.SparseCategoricalCrossentropy(from_logits=True, reduction=\"none\")\n",
    "\n",
    "pad_index = vocab[\"<PAD>\"]\n",
    "\n",
    "def loss_function(real, pred):\n",
    "  mask = tf.math.logical_not(tf.math.equal(real, pad_index))\n",
    "  loss_ = loss_object(real, pred)\n",
    "\n",
    "  mask = tf.cast(mask, dtype=loss_.dtype)\n",
    "  loss_ *= mask\n",
    "\n",
    "  return tf.reduce_mean(loss_)"
   ]
  },
  {
   "cell_type": "code",
   "execution_count": 0,
   "metadata": {
    "colab": {},
    "colab_type": "code",
    "id": "QEY33Fkge3Vr"
   },
   "outputs": [],
   "source": [
    "## 保存点设置"
   ]
  },
  {
   "cell_type": "code",
   "execution_count": 0,
   "metadata": {
    "colab": {},
    "colab_type": "code",
    "id": "5DEXQvWte6D9"
   },
   "outputs": [],
   "source": [
    "checkpoint_dir = \"./gen_data/checkpoints/training\"\n",
    "if not os.path.exists(checkpoint_dir):\n",
    "  os.makedirs(checkpoint_dir)\n",
    "checkpoint_prefix = os.path.join(checkpoint_dir, \"ckpt\")\n",
    "checkpoint = tf.train.Checkpoint(optimizer=optimizer, encoder=encoder, decoder=decoder)"
   ]
  },
  {
   "cell_type": "code",
   "execution_count": 83,
   "metadata": {
    "colab": {
     "base_uri": "https://localhost:8080/",
     "height": 35
    },
    "colab_type": "code",
    "executionInfo": {
     "elapsed": 693,
     "status": "ok",
     "timestamp": 1589687445979,
     "user": {
      "displayName": "Crise Zhaopp",
      "photoUrl": "",
      "userId": "18306759907168652538"
     },
     "user_tz": -480
    },
    "id": "bFHeIZz5f1m4",
    "outputId": "40fe75a1-f913-4e95-a74b-89b4f34144f0"
   },
   "outputs": [
    {
     "data": {
      "text/plain": [
       "'./gen_data/checkpoints/training/ckpt'"
      ]
     },
     "execution_count": 83,
     "metadata": {
      "tags": []
     },
     "output_type": "execute_result"
    }
   ],
   "source": [
    "checkpoint_prefix"
   ]
  },
  {
   "cell_type": "code",
   "execution_count": 0,
   "metadata": {
    "colab": {},
    "colab_type": "code",
    "id": "2deeqJis_l4d"
   },
   "outputs": [],
   "source": [
    "## 训练"
   ]
  },
  {
   "cell_type": "code",
   "execution_count": 0,
   "metadata": {
    "colab": {},
    "colab_type": "code",
    "id": "e0Pup-6lXVTy"
   },
   "outputs": [],
   "source": [
    "# @tf.function\n",
    "# def train_step(inp, targ, enc_hidden):\n",
    "#   loss = 0\n",
    "\n",
    "#   with tf.GradientTape() as tape:\n",
    "#     # 1. 构建encoder\n",
    "#     enc_output, enc_hidden = encoder(inp, enc_hidden)\n",
    "#     # 2. 复制\n",
    "#     dec_hidden = enc_hidden\n",
    "#     # 3. <START> * BATCH_SIZE\n",
    "#     dec_input = tf.expand_dims([vocab[\"<START>\"]] * BATCH_SIZE, 1)\n",
    "\n",
    "#     # Teacher forcing - feeding the target as the next input\n",
    "#     for t in range(1, targ.shape[1]):\n",
    "#       # decoder(x, hidden, enc_output)\n",
    "#       predictions, dec_hidden, _ = decoder(dec_input, dec_hidden, enc_output)\n",
    "\n",
    "#       loss += loss_function(targ[:, t], predictions)\n",
    "\n",
    "#       dec_input = tf.expand_dims(targ[:, t], 1)\n",
    "    \n",
    "#     batch_loss = (loss / int(targ.shape[1]))\n",
    "\n",
    "#     variables = encoder.trainable_variables + decoder.trainable_variables\n",
    "\n",
    "#     gradients = tape.gradient(loss, variables)\n",
    "\n",
    "#     optimizer.apply_gradients(zip(gradients, variables))\n",
    "\n",
    "#     return batch_loss"
   ]
  },
  {
   "cell_type": "code",
   "execution_count": 0,
   "metadata": {
    "colab": {},
    "colab_type": "code",
    "id": "RGGM3eeduf5t"
   },
   "outputs": [],
   "source": [
    "@tf.function\n",
    "def train_step(inp, targ, enc_hidden):\n",
    "    loss = 0\n",
    "\n",
    "    with tf.GradientTape() as tape:\n",
    "        # 1. 构建encoder\n",
    "        enc_output, enc_hidden = encoder(inp, enc_hidden)\n",
    "        # 2. 复制\n",
    "        dec_hidden = enc_hidden\n",
    "        # 3. <START> * BATCH_SIZE \n",
    "        dec_input = tf.expand_dims([vocab['<START>']] * BATCH_SIZE, 1)\n",
    "\n",
    "        # Teacher forcing - feeding the target as the next input\n",
    "        for t in range(1, targ.shape[1]):\n",
    "            # decoder(x, hidden, enc_output)\n",
    "            predictions, dec_hidden, _ = decoder(dec_input, dec_hidden, enc_output)\n",
    "            \n",
    "            loss += loss_function(targ[:, t], predictions)\n",
    "\n",
    "            # using teacher forcing\n",
    "            dec_input = tf.expand_dims(targ[:, t], 1)\n",
    "\n",
    "        batch_loss = (loss / int(targ.shape[1]))\n",
    "\n",
    "        variables = encoder.trainable_variables + decoder.trainable_variables\n",
    "\n",
    "        gradients = tape.gradient(loss, variables)\n",
    "\n",
    "        optimizer.apply_gradients(zip(gradients, variables))\n",
    "\n",
    "        return batch_loss"
   ]
  },
  {
   "cell_type": "code",
   "execution_count": 0,
   "metadata": {
    "colab": {},
    "colab_type": "code",
    "id": "Rm4pr0x1tBoE"
   },
   "outputs": [],
   "source": [
    "# for (batch, (inp, targ)) in enumerate(dataset.take(step_per_epoch)):\n",
    "#   print(inp)\n",
    "#   print(targ)"
   ]
  },
  {
   "cell_type": "code",
   "execution_count": 0,
   "metadata": {
    "colab": {},
    "colab_type": "code",
    "id": "27Ri79s5XYPj"
   },
   "outputs": [],
   "source": [
    "EPOCH = 10"
   ]
  },
  {
   "cell_type": "code",
   "execution_count": 84,
   "metadata": {
    "colab": {
     "base_uri": "https://localhost:8080/",
     "height": 1000
    },
    "colab_type": "code",
    "executionInfo": {
     "elapsed": 169580,
     "status": "ok",
     "timestamp": 1589687622056,
     "user": {
      "displayName": "Crise Zhaopp",
      "photoUrl": "",
      "userId": "18306759907168652538"
     },
     "user_tz": -480
    },
    "id": "sixUw7vBkt1L",
    "outputId": "34f48314-2e40-48ec-c9d9-50c9c709ef27"
   },
   "outputs": [
    {
     "name": "stdout",
     "output_type": "stream",
     "text": [
      "Epoch 1 step 0 Loss: 2.4356\n",
      "Epoch 1 step 1 Loss: 2.9044\n",
      "Epoch 1 step 2 Loss: 2.5568\n",
      "Epoch 1 step 3 Loss: 2.3728\n",
      "Epoch 1 step 4 Loss: 2.7195\n",
      "Epoch 1 step 5 Loss: 2.3557\n",
      "Epoch 1 step 6 Loss: 2.8366\n",
      "Epoch 1 step 7 Loss: 2.7939\n",
      "Epoch 1 step 8 Loss: 2.3074\n",
      "Epoch 1 step 9 Loss: 2.7521\n",
      "Epoch 1 Loss 2.6035\n",
      "Time taken for 1 epoch 14.592399597167969 sec\n",
      "\n",
      "Epoch 2 step 0 Loss: 2.3055\n",
      "Epoch 2 step 1 Loss: 2.8262\n",
      "Epoch 2 step 2 Loss: 2.6387\n",
      "Epoch 2 step 3 Loss: 2.6184\n",
      "Epoch 2 step 4 Loss: 2.3754\n",
      "Epoch 2 step 5 Loss: 1.9447\n",
      "Epoch 2 step 6 Loss: 2.1545\n",
      "Epoch 2 step 7 Loss: 2.6113\n",
      "Epoch 2 step 8 Loss: 3.0056\n",
      "Epoch 2 step 9 Loss: 2.0810\n",
      "Epoch 2 Loss 2.4561\n",
      "Time taken for 1 epoch 17.902633905410767 sec\n",
      "\n",
      "Epoch 3 step 0 Loss: 2.7619\n",
      "Epoch 3 step 1 Loss: 2.5648\n",
      "Epoch 3 step 2 Loss: 2.2469\n",
      "Epoch 3 step 3 Loss: 2.4273\n",
      "Epoch 3 step 4 Loss: 2.1832\n",
      "Epoch 3 step 5 Loss: 2.0798\n",
      "Epoch 3 step 6 Loss: 1.9983\n",
      "Epoch 3 step 7 Loss: 2.2401\n",
      "Epoch 3 step 8 Loss: 2.1732\n",
      "Epoch 3 step 9 Loss: 2.0613\n",
      "Epoch 3 Loss 2.2737\n",
      "Time taken for 1 epoch 15.043771743774414 sec\n",
      "\n",
      "Epoch 4 step 0 Loss: 2.0693\n",
      "Epoch 4 step 1 Loss: 2.2365\n",
      "Epoch 4 step 2 Loss: 2.0968\n",
      "Epoch 4 step 3 Loss: 2.2001\n",
      "Epoch 4 step 4 Loss: 2.0863\n",
      "Epoch 4 step 5 Loss: 1.9758\n",
      "Epoch 4 step 6 Loss: 2.0338\n",
      "Epoch 4 step 7 Loss: 2.0434\n",
      "Epoch 4 step 8 Loss: 2.0238\n",
      "Epoch 4 step 9 Loss: 2.0558\n",
      "Epoch 4 Loss 2.0822\n",
      "Time taken for 1 epoch 18.154308080673218 sec\n",
      "\n",
      "Epoch 5 step 0 Loss: 1.9164\n",
      "Epoch 5 step 1 Loss: 2.1819\n",
      "Epoch 5 step 2 Loss: 2.0036\n",
      "Epoch 5 step 3 Loss: 1.8313\n",
      "Epoch 5 step 4 Loss: 1.6909\n",
      "Epoch 5 step 5 Loss: 1.9970\n",
      "Epoch 5 step 6 Loss: 1.8614\n",
      "Epoch 5 step 7 Loss: 1.9283\n",
      "Epoch 5 step 8 Loss: 1.6796\n",
      "Epoch 5 step 9 Loss: 1.8789\n",
      "Epoch 5 Loss 1.8969\n",
      "Time taken for 1 epoch 15.295166969299316 sec\n",
      "\n",
      "Epoch 6 step 0 Loss: 2.0054\n",
      "Epoch 6 step 1 Loss: 1.6078\n",
      "Epoch 6 step 2 Loss: 1.7690\n",
      "Epoch 6 step 3 Loss: 1.7011\n",
      "Epoch 6 step 4 Loss: 1.4569\n",
      "Epoch 6 step 5 Loss: 1.7467\n",
      "Epoch 6 step 6 Loss: 1.7218\n",
      "Epoch 6 step 7 Loss: 1.6829\n",
      "Epoch 6 step 8 Loss: 1.6574\n",
      "Epoch 6 step 9 Loss: 1.9203\n",
      "Epoch 6 Loss 1.7269\n",
      "Time taken for 1 epoch 19.0081627368927 sec\n",
      "\n",
      "Epoch 7 step 0 Loss: 1.6179\n",
      "Epoch 7 step 1 Loss: 1.5838\n",
      "Epoch 7 step 2 Loss: 1.3382\n",
      "Epoch 7 step 3 Loss: 1.4802\n",
      "Epoch 7 step 4 Loss: 1.7216\n",
      "Epoch 7 step 5 Loss: 1.7971\n",
      "Epoch 7 step 6 Loss: 1.4695\n",
      "Epoch 7 step 7 Loss: 1.7408\n",
      "Epoch 7 step 8 Loss: 1.3264\n",
      "Epoch 7 step 9 Loss: 1.5711\n",
      "Epoch 7 Loss 1.5647\n",
      "Time taken for 1 epoch 15.26573395729065 sec\n",
      "\n",
      "Epoch 8 step 0 Loss: 1.3093\n",
      "Epoch 8 step 1 Loss: 1.4034\n",
      "Epoch 8 step 2 Loss: 1.3537\n",
      "Epoch 8 step 3 Loss: 1.5958\n",
      "Epoch 8 step 4 Loss: 1.4893\n",
      "Epoch 8 step 5 Loss: 1.2399\n",
      "Epoch 8 step 6 Loss: 1.7052\n",
      "Epoch 8 step 7 Loss: 1.3579\n",
      "Epoch 8 step 8 Loss: 1.3893\n",
      "Epoch 8 step 9 Loss: 1.2535\n",
      "Epoch 8 Loss 1.4097\n",
      "Time taken for 1 epoch 18.818413019180298 sec\n",
      "\n",
      "Epoch 9 step 0 Loss: 1.2030\n",
      "Epoch 9 step 1 Loss: 1.2022\n",
      "Epoch 9 step 2 Loss: 1.2738\n",
      "Epoch 9 step 3 Loss: 1.2650\n",
      "Epoch 9 step 4 Loss: 1.1990\n",
      "Epoch 9 step 5 Loss: 1.0707\n",
      "Epoch 9 step 6 Loss: 1.2228\n",
      "Epoch 9 step 7 Loss: 1.3055\n",
      "Epoch 9 step 8 Loss: 1.4042\n",
      "Epoch 9 step 9 Loss: 1.5282\n",
      "Epoch 9 Loss 1.2674\n",
      "Time taken for 1 epoch 15.366941452026367 sec\n",
      "\n",
      "Epoch 10 step 0 Loss: 1.0935\n",
      "Epoch 10 step 1 Loss: 0.9338\n",
      "Epoch 10 step 2 Loss: 1.3121\n",
      "Epoch 10 step 3 Loss: 1.1933\n",
      "Epoch 10 step 4 Loss: 1.1727\n",
      "Epoch 10 step 5 Loss: 1.1087\n",
      "Epoch 10 step 6 Loss: 1.1524\n",
      "Epoch 10 step 7 Loss: 1.1290\n",
      "Epoch 10 step 8 Loss: 1.1389\n",
      "Epoch 10 step 9 Loss: 1.1164\n",
      "Epoch 10 Loss 1.1351\n",
      "Time taken for 1 epoch 18.969310760498047 sec\n",
      "\n"
     ]
    }
   ],
   "source": [
    "import time\n",
    "for epoch in range(EPOCH):\n",
    "  start = time.time()\n",
    "\n",
    "  enc_hidden = encoder.initialize_hidden_state()\n",
    "  total_loss = 0\n",
    "\n",
    "  for (batch, (inp, targ)) in enumerate(dataset.take(step_per_epoch)):\n",
    "    batch_loss = train_step(inp, targ, enc_hidden)\n",
    "    total_loss += batch_loss\n",
    "\n",
    "    if batch % 1 == 0:\n",
    "      print(\"Epoch {} step {} Loss: {:.4f}\".format(epoch+1, batch, batch_loss.numpy()))\n",
    "  \n",
    "  if (epoch+1) % 2 == 0:\n",
    "    checkpoint.save(file_prefix=checkpoint_prefix)\n",
    "  \n",
    "  print('Epoch {} Loss {:.4f}'.format(epoch + 1, total_loss / step_per_epoch))\n",
    "  print('Time taken for 1 epoch {} sec\\n'.format(time.time() - start))"
   ]
  },
  {
   "cell_type": "code",
   "execution_count": 2,
   "metadata": {
    "colab": {
     "base_uri": "https://localhost:8080/",
     "height": 173
    },
    "colab_type": "code",
    "executionInfo": {
     "elapsed": 1875,
     "status": "error",
     "timestamp": 1589699355737,
     "user": {
      "displayName": "Crise Zhaopp",
      "photoUrl": "",
      "userId": "18306759907168652538"
     },
     "user_tz": -480
    },
    "id": "guAYBiXIlst7",
    "outputId": "3adec63f-9032-42d7-8b52-6c9c8aa2659f"
   },
   "outputs": [
    {
     "ename": "NameError",
     "evalue": "ignored",
     "output_type": "error",
     "traceback": [
      "\u001b[0;31m---------------------------------------------------------------------------\u001b[0m",
      "\u001b[0;31mNameError\u001b[0m                                 Traceback (most recent call last)",
      "\u001b[0;32m<ipython-input-2-65996cac02ec>\u001b[0m in \u001b[0;36m<module>\u001b[0;34m()\u001b[0m\n\u001b[0;32m----> 1\u001b[0;31m \u001b[0mtf\u001b[0m\u001b[0;34m.\u001b[0m\u001b[0m__version__\u001b[0m\u001b[0;34m\u001b[0m\u001b[0;34m\u001b[0m\u001b[0m\n\u001b[0m",
      "\u001b[0;31mNameError\u001b[0m: name 'tf' is not defined"
     ]
    }
   ],
   "source": [
    "tf.__version__"
   ]
  },
  {
   "cell_type": "code",
   "execution_count": 0,
   "metadata": {
    "colab": {},
    "colab_type": "code",
    "id": "tF8EztY2joCB"
   },
   "outputs": [],
   "source": [
    "import os, sys\n",
    "sys.path.append(\"./utils\")"
   ]
  },
  {
   "cell_type": "code",
   "execution_count": 8,
   "metadata": {
    "colab": {
     "base_uri": "https://localhost:8080/",
     "height": 35
    },
    "colab_type": "code",
    "executionInfo": {
     "elapsed": 8283,
     "status": "ok",
     "timestamp": 1589700965376,
     "user": {
      "displayName": "Crise Zhaopp",
      "photoUrl": "",
      "userId": "18306759907168652538"
     },
     "user_tz": -480
    },
    "id": "kxC-hEtXj3-e",
    "outputId": "65892053-cba9-4e80-8cb9-23334e72e9c3"
   },
   "outputs": [
    {
     "name": "stdout",
     "output_type": "stream",
     "text": [
      "\u001b[0m\u001b[01;34msample_data\u001b[0m/\n"
     ]
    }
   ],
   "source": [
    "ls"
   ]
  },
  {
   "cell_type": "code",
   "execution_count": 7,
   "metadata": {
    "colab": {
     "base_uri": "https://localhost:8080/",
     "height": 389
    },
    "colab_type": "code",
    "executionInfo": {
     "elapsed": 1864,
     "status": "error",
     "timestamp": 1589700945356,
     "user": {
      "displayName": "Crise Zhaopp",
      "photoUrl": "",
      "userId": "18306759907168652538"
     },
     "user_tz": -480
    },
    "id": "WDW3oYaHuYld",
    "outputId": "a2893db9-71e8-4707-d65c-d3fed46239f6"
   },
   "outputs": [
    {
     "ename": "ModuleNotFoundError",
     "evalue": "ignored",
     "output_type": "error",
     "traceback": [
      "\u001b[0;31m---------------------------------------------------------------------------\u001b[0m",
      "\u001b[0;31mModuleNotFoundError\u001b[0m                       Traceback (most recent call last)",
      "\u001b[0;32m<ipython-input-7-029160981781>\u001b[0m in \u001b[0;36m<module>\u001b[0;34m()\u001b[0m\n\u001b[0;32m----> 1\u001b[0;31m \u001b[0;32mfrom\u001b[0m \u001b[0mdata_loader\u001b[0m \u001b[0;32mimport\u001b[0m \u001b[0mpreprocess_sentence\u001b[0m\u001b[0;34m\u001b[0m\u001b[0;34m\u001b[0m\u001b[0m\n\u001b[0m\u001b[1;32m      2\u001b[0m \u001b[0;32mimport\u001b[0m \u001b[0mmatplotlib\u001b[0m\u001b[0;34m\u001b[0m\u001b[0;34m\u001b[0m\u001b[0m\n\u001b[1;32m      3\u001b[0m \u001b[0;32mfrom\u001b[0m \u001b[0mmatplotlib\u001b[0m \u001b[0;32mimport\u001b[0m \u001b[0mfont_manager\u001b[0m\u001b[0;34m\u001b[0m\u001b[0;34m\u001b[0m\u001b[0m\n\u001b[1;32m      4\u001b[0m \u001b[0;31m# 解决中文乱码\u001b[0m\u001b[0;34m\u001b[0m\u001b[0;34m\u001b[0m\u001b[0;34m\u001b[0m\u001b[0m\n\u001b[1;32m      5\u001b[0m \u001b[0mfont\u001b[0m\u001b[0;34m=\u001b[0m\u001b[0mfont_manager\u001b[0m\u001b[0;34m.\u001b[0m\u001b[0mFontProperties\u001b[0m\u001b[0;34m(\u001b[0m\u001b[0mfname\u001b[0m\u001b[0;34m=\u001b[0m\u001b[0;34m\"./gen_data/simhei.ttf\"\u001b[0m\u001b[0;34m)\u001b[0m\u001b[0;34m\u001b[0m\u001b[0;34m\u001b[0m\u001b[0m\n",
      "\u001b[0;31mModuleNotFoundError\u001b[0m: No module named 'data_loader'",
      "",
      "\u001b[0;31m---------------------------------------------------------------------------\u001b[0;32m\nNOTE: If your import is failing due to a missing package, you can\nmanually install dependencies using either !pip or !apt.\n\nTo view examples of installing some common dependencies, click the\n\"Open Examples\" button below.\n\u001b[0;31m---------------------------------------------------------------------------\u001b[0m\n"
     ]
    }
   ],
   "source": [
    "from data_loader import preprocess_sentence\n",
    "import matplotlib\n",
    "from matplotlib import font_manager\n",
    "# 解决中文乱码\n",
    "font=font_manager.FontProperties(fname=\"./gen_data/simhei.ttf\")\n",
    "import matplotlib.pyplot as plt\n",
    "from sklearn.manifold import TSNE"
   ]
  },
  {
   "cell_type": "code",
   "execution_count": 0,
   "metadata": {
    "colab": {},
    "colab_type": "code",
    "id": "OcS3FXi2c9gq"
   },
   "outputs": [],
   "source": []
  }
 ],
 "metadata": {
  "accelerator": "GPU",
  "colab": {
   "authorship_tag": "ABX9TyMefqJQf2aCw9wfBN9wlAfc",
   "name": "encoder_decoder.ipynb",
   "provenance": []
  },
  "kernelspec": {
   "display_name": "Python 3",
   "language": "python",
   "name": "python3"
  },
  "language_info": {
   "codemirror_mode": {
    "name": "ipython",
    "version": 3
   },
   "file_extension": ".py",
   "mimetype": "text/x-python",
   "name": "python",
   "nbconvert_exporter": "python",
   "pygments_lexer": "ipython3",
   "version": "3.6.9"
  }
 },
 "nbformat": 4,
 "nbformat_minor": 1
}
